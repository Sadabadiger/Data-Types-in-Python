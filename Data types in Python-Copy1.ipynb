{
 "cells": [
  {
   "cell_type": "markdown",
   "metadata": {},
   "source": [
    "# Comments in Python\n",
    "- There are two types of comments in Python single line comments and multiline comments"
   ]
  },
  {
   "cell_type": "markdown",
   "metadata": {},
   "source": [
    "# Single Line Comment\n",
    "- These Comment start with hash symbol (#) and are useful to mention that the entirte line till the end should be treated as comment"
   ]
  },
  {
   "cell_type": "code",
   "execution_count": 1,
   "metadata": {},
   "outputs": [
    {
     "name": "stdout",
     "output_type": "stream",
     "text": [
      "30\n"
     ]
    }
   ],
   "source": [
    "# To find sum of two numbers\n",
    "a=10 # Store 10 into variable a\n",
    "b=20 # Store 20 into variable b\n",
    "c= a+b # add variable a and b and store it into c\n",
    "print(c) # Print the value of c"
   ]
  },
  {
   "cell_type": "markdown",
   "metadata": {},
   "source": [
    "# Multi Line Comment\n",
    "- When we want to mark several lines as comment, then writing # symbol in the beginning of every line lewill be a tedious job\n",
    "- Instead of starting every line with # symbol, we can write the previous block of code inside \" \" \"(Triple double quote) or ' ' '(Triple single quote) in the beginning and ending of the block"
   ]
  },
  {
   "cell_type": "code",
   "execution_count": 8,
   "metadata": {},
   "outputs": [
    {
     "data": {
      "text/plain": [
       "'This is program to find net salary of an employee based on the basic salary, provident fund, house rent allowance, dearness allownace and income tax'"
      ]
     },
     "execution_count": 8,
     "metadata": {},
     "output_type": "execute_result"
    }
   ],
   "source": [
    "\"\"\"This is program to find net salary of an employee based on the basic salary, provident fund, house rent allowance, dearness allownace and income tax\"\"\""
   ]
  },
  {
   "cell_type": "code",
   "execution_count": 32,
   "metadata": {},
   "outputs": [
    {
     "data": {
      "text/plain": [
       "'my name is ram\\nmy students name is supriya, and\\none more student name is sayali'"
      ]
     },
     "execution_count": 32,
     "metadata": {},
     "output_type": "execute_result"
    }
   ],
   "source": [
    "\"\"\"my name is ram\n",
    "my students name is supriya, and\n",
    "one more student name is sayali\"\"\""
   ]
  },
  {
   "attachments": {
    "Untitled-2.png": {
     "image/png": "[encoded data removed]"
    },
    "Untitled-3.png": {
     "image/png": "[encoded data removed]"
    },
    "Untitled.png": {
     "image/png": "[encoded data removed]"
    }
   },
   "cell_type": "markdown",
   "metadata": {},
   "source": [
    "# How C, Java Sees Variable\n",
    "- In Programming language like C, Java and many other languages the concept of variable is connected to memory location.\n",
    "- In all languages, a variable is imagined as a storage box which can store some value, suppose, we write a statement as\n",
    "                                                            a=1;\n",
    "- Some memory location is allocated with the name 'a' and there the value 1 is stored. Here we can imagine the memory as a box or container that stores the value ![Untitled.png](attachment:Untitled.png)\n",
    "- If we change the value of the variable, then the bo will be updated with the new value. For example, if we write \n",
    "                                                            a=2;\n",
    " ![Untitled-2.png](attachment:Untitled-2.png)\n",
    "- When we assign one variable to another variable as; int b=a\n",
    "- A new memory box is ctreated by the name 'b' and the value of the variable 'a' is copied into that box as shown in figure\n",
    "![Untitled-3.png](attachment:Untitled-3.png)\n",
    "- This is how the variables are visualized in other languages"
   ]
  },
  {
   "attachments": {
    "Untitled-2.png": {
     "image/png": "[encoded data removed]"
    },
    "Untitled-3.png": {
     "image/png": "[encoded data removed]"
    },
    "Untitled-5.png": {
     "image/png": "[encoded data removed]"
    },
    "Untitled.png": {
     "image/png": "[encoded data removed]"
    }
   },
   "cell_type": "markdown",
   "metadata": {},
   "source": [
    "# How Python Sees Variable\n",
    "- In Python, a variable is seen as a tag that tied to some value. For example, the statement a=1\n",
    "\n",
    "- means the value '1' is created first in memory and then a tag by the name 'a' is created to show that value\n",
    "![Untitled.png](attachment:Untitled.png)\n",
    "\n",
    "- Python considers the values as 'Objects'\n",
    "\n",
    "- If we cahnge the value of 'a' to new value as a=2, then the tag is simply changed to the new value as shown in figure\n",
    "![Untitled-2.png](attachment:Untitled-2.png)\n",
    "\n",
    "- The value '1' becomes unreferenced objects, it is removed by garbage collector\n",
    "![Untitled-3.png](attachment:Untitled-3.png)\n",
    "\n",
    "- In Python assigning one variable to another variable makes a new tag bound to the same values. for example b=a, here we are storing 'a' value into 'b'. A new tag 'b' will be created that refers to '2' as shown in figure\n",
    "![Untitled-5.png](attachment:Untitled-5.png)\n",
    "\n",
    "- lets understand that while other languages have variables, Python has 'tags' tp represent the values\n",
    "- In other languages there are two memory locatons created to store two values but in python there is only one memory referenced by two names.\n",
    "- It means python is using memory efficiently. This is the actual way of understanding Python variables "
   ]
  },
  {
   "cell_type": "markdown",
   "metadata": {},
   "source": [
    "# Datatypes in Python\n",
    "- Datatypes represent the type of data stored into a variable or memory.\n",
    "- The datatypes which are already available in Python language are called **Built-in datatypes**\n",
    "- The datatypes which can be created by the programmer are called **User-defined datatypes**"
   ]
  },
  {
   "cell_type": "markdown",
   "metadata": {},
   "source": [
    "# Built-in Datatypes\n",
    "- The following are the built-in datatypes in Python programming \n",
    "1. Numeric Type\n",
    "2. Sequence \n",
    "3. Sets\n",
    "4. Mappings"
   ]
  },
  {
   "cell_type": "markdown",
   "metadata": {},
   "source": [
    "# 1. Numeric Type\n",
    "The numeric type represents numbers. There are three sub Types\n",
    "* **int** - An integer number is a number without any decimal point or fraction part. for example 200, -50, 9888.\n",
    "* **float** - A Floating Pointnumber is a number that contains a decimal point. For example 0.5, -3.416, 290.08\n",
    "* **Complex** - A complex number is a number that is writeen in the form of a+bj or a+bj. Here **a** represents the real part and **b** represents the imaginary part.\n"
   ]
  },
  {
   "cell_type": "code",
   "execution_count": 46,
   "metadata": {},
   "outputs": [],
   "source": [
    "# Converting the Datatypes Explicitly\n",
    "# int(x) is used to convert the number x into int type\n",
    "\n"
   ]
  },
  {
   "cell_type": "code",
   "execution_count": 47,
   "metadata": {},
   "outputs": [],
   "source": [
    "#Float(x) is used to convert x into float type.\n",
    "\n"
   ]
  },
  {
   "cell_type": "code",
   "execution_count": 48,
   "metadata": {},
   "outputs": [],
   "source": [
    "#Complex(x) is used to convert x into a complex number\n"
   ]
  },
  {
   "cell_type": "code",
   "execution_count": null,
   "metadata": {},
   "outputs": [],
   "source": []
  },
  {
   "cell_type": "markdown",
   "metadata": {},
   "source": [
    "# 2. Sequence in Python\n",
    "Generally, a sequence represents a group of elements or items. Following are the sequences in Python\n",
    "* **str**\n",
    "* **List**\n",
    "* **Tuple**\n",
    "* **Range**"
   ]
  },
  {
   "cell_type": "markdown",
   "metadata": {},
   "source": [
    "# String Datatype\n",
    "- In python **str** represents string datatype.\n",
    "- A string is represented by a group of characters\n",
    "- String are enclosed in single quotes or double quotes. both are valid"
   ]
  },
  {
   "cell_type": "code",
   "execution_count": null,
   "metadata": {},
   "outputs": [],
   "source": [
    "# Creating string using single and double quote"
   ]
  },
  {
   "cell_type": "code",
   "execution_count": null,
   "metadata": {},
   "outputs": [],
   "source": [
    "# Creating string using triple signe quotes and triple double quotes"
   ]
  },
  {
   "cell_type": "code",
   "execution_count": null,
   "metadata": {},
   "outputs": [],
   "source": [
    "# Slicing operator in string"
   ]
  },
  {
   "cell_type": "markdown",
   "metadata": {},
   "source": [
    "# List Datatype\n",
    "- A list similer to an array that consists of a group of elements or items.\n",
    "- There is one major difference between an array and a list, an array can store only one type of elements whereas a list can store different types of elements\n",
    "- In array size of the array is fixed and they can't grow in the runtime but List can grow dynamically in memory\n",
    "- Lists are mutable, It means we can modify the contents of a list, we can append, update or delete the elements of a list depening upon the requirement\n",
    "- Lists are representing with [ ] and the elements are written in bracket are seperated by commas\n",
    "- List are the most used datatypes in python programs"
   ]
  },
  {
   "cell_type": "code",
   "execution_count": null,
   "metadata": {},
   "outputs": [],
   "source": [
    "# Creating list that stores students information\n"
   ]
  },
  {
   "cell_type": "markdown",
   "metadata": {},
   "source": [
    "# Tuple Datatype\n",
    "- A tuple is similar to list. A tuple contains a group of elements which can be of different types.\n",
    "- The elements in the tuple are seperated by commas and enclosed in parantheses().\n",
    "- Whereas the list elements can be modified, it is not possible to modify the tuple elements. therefore tuples are immutable.\n",
    "- That means a tuple can be treated as a read-only list."
   ]
  },
  {
   "cell_type": "code",
   "execution_count": 49,
   "metadata": {},
   "outputs": [],
   "source": [
    "# Creating tuple that stores bank details of the person\n"
   ]
  },
  {
   "cell_type": "markdown",
   "metadata": {},
   "source": [
    "# Range Datatype\n",
    "- The range datatypes represents a sequence of numbers.\n",
    "- Generally range is used for repeating a for loop for a specific number of times"
   ]
  },
  {
   "cell_type": "code",
   "execution_count": 38,
   "metadata": {},
   "outputs": [],
   "source": [
    "#To create a range of numbers\n"
   ]
  },
  {
   "cell_type": "code",
   "execution_count": 37,
   "metadata": {},
   "outputs": [],
   "source": [
    "# using for loop print the ements of the range function\n"
   ]
  },
  {
   "cell_type": "code",
   "execution_count": 39,
   "metadata": {},
   "outputs": [],
   "source": [
    "# printing even value between 30 to 40\n",
    "\n"
   ]
  },
  {
   "cell_type": "code",
   "execution_count": 40,
   "metadata": {},
   "outputs": [],
   "source": [
    "#create a list with a range of numbers from 0 to 9\n"
   ]
  },
  {
   "cell_type": "markdown",
   "metadata": {},
   "source": [
    "# Sets Datatype\n",
    "- A set is an unordered collection of elements. The order of elements is not maintained in the sets.\n",
    "- It means elements may not appear in the same order as they entered into the sets.\n",
    "- Set does not accept duplicate element\n",
    "\n",
    "There are two sub types in sets\n",
    "1. Set Datatype\n",
    "2. Frozenset datatypes"
   ]
  },
  {
   "cell_type": "code",
   "execution_count": 41,
   "metadata": {},
   "outputs": [],
   "source": [
    "# Creating set\n"
   ]
  },
  {
   "cell_type": "code",
   "execution_count": 42,
   "metadata": {},
   "outputs": [],
   "source": [
    "# To convert set into list\n"
   ]
  },
  {
   "cell_type": "code",
   "execution_count": 43,
   "metadata": {},
   "outputs": [],
   "source": [
    "#remove elements from the set\n"
   ]
  },
  {
   "cell_type": "code",
   "execution_count": 44,
   "metadata": {},
   "outputs": [],
   "source": [
    "# update elements in the set"
   ]
  },
  {
   "cell_type": "markdown",
   "metadata": {},
   "source": [
    "# Frozenset Datatype\n",
    "- The frozenset satatype is same as the set datatype\n",
    "- The main difference is that the elements in the set datatype can be modified, whereas the elements of frozenset cannot be modified.\n",
    "- We can create a frozenset by passing a set to frozenset() function"
   ]
  },
  {
   "cell_type": "code",
   "execution_count": 45,
   "metadata": {},
   "outputs": [],
   "source": [
    "# Creating frozenset\n",
    "\n",
    "\n"
   ]
  },
  {
   "cell_type": "markdown",
   "metadata": {},
   "source": [
    "# Mapping or Dictionary Datatypes\n",
    "- A Map or Dictionary represents a group of elements in the form of key value pairs so the key is given we can retrive the value associated with it\n",
    "- This data type is represented with the name **dict**"
   ]
  },
  {
   "cell_type": "code",
   "execution_count": 51,
   "metadata": {},
   "outputs": [],
   "source": [
    "# Creating a dictionary by typing the roll numbers and names of the students\n"
   ]
  },
  {
   "cell_type": "code",
   "execution_count": 53,
   "metadata": {},
   "outputs": [],
   "source": [
    "# we can create empty dictionary and after we can add the elements\n"
   ]
  },
  {
   "cell_type": "markdown",
   "metadata": {},
   "source": [
    "# Determining the Datatype of variable\n",
    "- To know the datatype of a variable or object, we can use the type() function"
   ]
  },
  {
   "cell_type": "code",
   "execution_count": 33,
   "metadata": {},
   "outputs": [
    {
     "name": "stdout",
     "output_type": "stream",
     "text": [
      "<class 'set'>\n"
     ]
    }
   ],
   "source": [
    "print(type(s))"
   ]
  },
  {
   "cell_type": "code",
   "execution_count": 34,
   "metadata": {},
   "outputs": [
    {
     "name": "stdout",
     "output_type": "stream",
     "text": [
      "<class 'frozenset'>\n"
     ]
    }
   ],
   "source": [
    "print(type(fs))"
   ]
  }
 ],
 "metadata": {
  "kernelspec": {
   "display_name": "Python 3",
   "language": "python",
   "name": "python3"
  },
  "language_info": {
   "codemirror_mode": {
    "name": "ipython",
    "version": 3
   },
   "file_extension": ".py",
   "mimetype": "text/x-python",
   "name": "python",
   "nbconvert_exporter": "python",
   "pygments_lexer": "ipython3",
   "version": "3.7.6"
  }
 },
 "nbformat": 4,
 "nbformat_minor": 4
}
